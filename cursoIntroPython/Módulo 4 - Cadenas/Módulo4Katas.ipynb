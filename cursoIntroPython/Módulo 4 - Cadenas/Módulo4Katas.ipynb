{
 "cells": [
  {
   "cell_type": "markdown",
   "metadata": {},
   "source": [
    "## Ejercicio 1: Transformar cadenas\n",
    "Hay varias operaciones que puedes realizar en las cadenas cuando las manipulamos. En este ejercicio, usarás métodos de cadena para modificar el texto con hechos sobre la Luna y luego extraerás información para crear un breve resumen.\n",
    "\n",
    "Nota Dedica unos minutos a tratar de encontrar una solución. Luego desplázate hacia abajo hasta la parte inferior para ver si has logrado compilar el programa de acuerdo con las especificaciones.\n",
    "\n",
    "El texto con el que trabajarás es el siguiente:"
   ]
  },
  {
   "cell_type": "code",
   "execution_count": 16,
   "metadata": {},
   "outputs": [
    {
     "name": "stdout",
     "output_type": "stream",
     "text": [
      "\n",
      "On average, the Moon moves 4cm away from the Earth every year\n"
     ]
    }
   ],
   "source": [
    "texto = \"\"\"Interesting facts about the Moon. The Moon is Earth's only satellite. There are several interesting facts about the Moon and how it affects life here on Earth. \n",
    "On average, the Moon moves 4cm away from the Earth every year. This yearly drift is not significant enough to cause immediate effects on Earth. \"\"\"\n",
    "\n",
    "textoSeparado = texto.split(\". \")\n",
    "\n",
    "palabrasClave = ['average', 'temperature', 'distance suenan bien']\n",
    "\n",
    "# Corre las posiciones del vector\n",
    "for oraciones in textoSeparado:\n",
    "    for palClaves in palabrasClave:\n",
    "        if palClaves in oraciones:\n",
    "            print(oraciones)"
   ]
  },
  {
   "cell_type": "markdown",
   "metadata": {},
   "source": [
    "## Ejercicio 2: Formateando Cadenas\n",
    "Saber cómo dar formato a las cadenas es esencial cuando se presenta información de un programa. Hay algunas maneras diferentes de lograr esto en Python. En este ejercicio, se utilizan variables que contienen datos clave sobre la gravedad en varias lunas y luego se utilizan para dar formato e imprimir la información.\n",
    "\n",
    "El formato tiene que acomodar información sobre otras lunas, por lo que debe ser genérico.\n",
    "\n",
    "En lugar de reemplazar las variables en una cadena larga como parte de un párrafo, utiliza la información para presentarla en un formato tabular. El resultado debería verse así:\n",
    "\n",
    "Gravity Facts about Ganymede\n",
    "\n",
    "#-------------------------------------------------------------------------------\n",
    "\n",
    "Planet Name: Mars\n",
    "\n",
    "Gravity on Ganymede: 1.4300000000000002 m/s2"
   ]
  },
  {
   "cell_type": "code",
   "execution_count": 30,
   "metadata": {},
   "outputs": [
    {
     "name": "stdout",
     "output_type": "stream",
     "text": [
      "\n",
      "    Gravity Facts About Ganímedes\n",
      "     \n",
      "    ----------------------------------------------------\n",
      "    Planet Name: Marte \n",
      "    Gravity on Ganímedes: 1.4300000000000002 m/s2.\n",
      "\n",
      "\n"
     ]
    }
   ],
   "source": [
    "# Datos con los que vas a trabajar\n",
    "name = \"Marte \"\n",
    "gravity = 0.00143 # in kms\n",
    "planet = \"Ganímedes\"\n",
    "\n",
    "# Creando el titulo\n",
    "titulo = f\"Gravity Facts about {planet}\".title()\n",
    "\n",
    "# Creacion del hecho\n",
    "hecho = f\"\"\" \n",
    "    ----------------------------------------------------\n",
    "    Planet Name: {name}\n",
    "    Gravity on {planet}: {gravity * 1000} m/s2.\n",
    "\"\"\"\n",
    "\n",
    "# uniendo todo en una plantilla.\n",
    "plantilla = f\"\"\"\n",
    "    {titulo}\n",
    "    {hecho}\n",
    "\"\"\"\n",
    "\n",
    "print(plantilla)\n",
    "\n",
    "\n",
    "\n",
    "\n",
    "\n"
   ]
  }
 ],
 "metadata": {
  "interpreter": {
   "hash": "c2983ad6ec08ae07ea82f1847e87d3e2e260b2ed551469b84aca7ce939dd1399"
  },
  "kernelspec": {
   "display_name": "Python 3.10.2 64-bit",
   "language": "python",
   "name": "python3"
  },
  "language_info": {
   "codemirror_mode": {
    "name": "ipython",
    "version": 3
   },
   "file_extension": ".py",
   "mimetype": "text/x-python",
   "name": "python",
   "nbconvert_exporter": "python",
   "pygments_lexer": "ipython3",
   "version": "3.10.2"
  },
  "orig_nbformat": 4
 },
 "nbformat": 4,
 "nbformat_minor": 2
}
