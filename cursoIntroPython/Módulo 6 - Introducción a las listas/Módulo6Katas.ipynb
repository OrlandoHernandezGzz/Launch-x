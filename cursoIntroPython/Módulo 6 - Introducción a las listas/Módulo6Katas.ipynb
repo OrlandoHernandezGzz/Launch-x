{
 "cells": [
  {
   "cell_type": "markdown",
   "metadata": {},
   "source": [
    "# Ejercicio1: Crear y usar listas de Python\n",
    "## Ejercicio: Usar listas para almacenar nombres de planetas"
   ]
  },
  {
   "cell_type": "code",
   "execution_count": 3,
   "metadata": {},
   "outputs": [
    {
     "name": "stdout",
     "output_type": "stream",
     "text": [
      "Numero de planetas 9\n",
      "El ultimo planeta agregado es: Pluton\n"
     ]
    }
   ],
   "source": [
    "planets = ['Tierra', 'Mercurio', 'Marte', 'Neptuno', 'Jupiter', 'Urano', 'Venus', 'Saturno']\n",
    "\n",
    "planets.append('Pluton')\n",
    "print('Numero de planetas', len(planets))\n",
    "print('El ultimo planeta agregado es:', planets[-1])\n"
   ]
  },
  {
   "cell_type": "markdown",
   "metadata": {},
   "source": [
    "# Ejercicio 2: Trabajando con datos de una lista\n",
    "## Usar slices para recuperar partes de una lista"
   ]
  },
  {
   "cell_type": "code",
   "execution_count": 4,
   "metadata": {},
   "outputs": [
    {
     "name": "stdout",
     "output_type": "stream",
     "text": [
      "Planetas más cercanos al sol que venus\n",
      "['Mercury']\n",
      "Planetas más lejanos al sol que venus\n",
      "['Earth', 'Mars', 'Jupiter', 'Saturn', 'Neptuno', 'Urano']\n"
     ]
    }
   ],
   "source": [
    "# Lista de planetas\n",
    "planets = ['Mercury', 'Venus', 'Earth', 'Mars', 'Jupiter', 'Saturn', 'Neptuno', 'Urano']\n",
    "\n",
    "planeta = input('Digite nombre del planeta')\n",
    "buscarPlaneta = planeta.capitalize()\n",
    "\n",
    "indice_planeta = planets.index(buscarPlaneta)\n",
    "\n",
    "#Planetas más cercanos del sol\n",
    "print('Planetas más cercanos al sol que ' + planeta)\n",
    "print(planets[0:indice_planeta])\n",
    "\n",
    "# Planetas más lejanos de sol\n",
    "print('Planetas más lejanos al sol que ' + planeta)\n",
    "print(planets[indice_planeta + 1:])\n"
   ]
  }
 ],
 "metadata": {
  "interpreter": {
   "hash": "c2983ad6ec08ae07ea82f1847e87d3e2e260b2ed551469b84aca7ce939dd1399"
  },
  "kernelspec": {
   "display_name": "Python 3.10.2 64-bit",
   "language": "python",
   "name": "python3"
  },
  "language_info": {
   "codemirror_mode": {
    "name": "ipython",
    "version": 3
   },
   "file_extension": ".py",
   "mimetype": "text/x-python",
   "name": "python",
   "nbconvert_exporter": "python",
   "pygments_lexer": "ipython3",
   "version": "3.10.2"
  },
  "orig_nbformat": 4
 },
 "nbformat": 4,
 "nbformat_minor": 2
}
