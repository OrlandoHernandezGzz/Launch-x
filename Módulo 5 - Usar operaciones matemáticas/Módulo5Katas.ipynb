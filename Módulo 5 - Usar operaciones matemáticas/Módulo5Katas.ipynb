{
 "cells": [
  {
   "cell_type": "markdown",
   "metadata": {},
   "source": [
    "## Ejercicio 1 - Utilizar operadores aritméticos.\n",
    "Exploremos cómo podemos crear un programa que pueda calcular la distancia entre dos planetas. Comenzaremos usando dos distancias de planetas: Tierra (149.597.870 km) y Júpiter (778.547.200 km)."
   ]
  },
  {
   "cell_type": "code",
   "execution_count": 7,
   "metadata": {},
   "outputs": [
    {
     "name": "stdout",
     "output_type": "stream",
     "text": [
      "628949330\n",
      "390577534\n"
     ]
    }
   ],
   "source": [
    "# variables.\n",
    "tierra = 149597870\n",
    "jupiter = 778547200\n",
    "\n",
    "distanciaKm = jupiter - tierra\n",
    "print(distanciaKm)\n",
    "\n",
    "distanciaMillas = distanciaKm * 0.621\n",
    "print(round(distanciaMillas))\n"
   ]
  },
  {
   "cell_type": "markdown",
   "metadata": {},
   "source": [
    "## Ejercicio 2: convierte cadenas en números y usa valores absolutos\n",
    "\n",
    "### Crear una aplicación para trabajar con números y entrada de usuario"
   ]
  },
  {
   "cell_type": "code",
   "execution_count": 11,
   "metadata": {},
   "outputs": [
    {
     "name": "stdout",
     "output_type": "stream",
     "text": [
      "50300000\n",
      "31236300.0\n"
     ]
    }
   ],
   "source": [
    "planeta1 = input(\"Digite la distancia del sol al primer planeta\")\n",
    "planeta2 = input(\"Digite la distancia del sol al segundo planeta\")\n",
    "\n",
    "planeta1_int = int(planeta1)\n",
    "planeta2_int = int(planeta2)\n",
    "\n",
    "distanciaKm = planeta1_int - planeta2_int\n",
    "print(abs(distanciaKm))\n",
    "\n",
    "distanciaMillas = distanciaKm * 0.621\n",
    "print(abs(distanciaMillas))"
   ]
  }
 ],
 "metadata": {
  "interpreter": {
   "hash": "c2983ad6ec08ae07ea82f1847e87d3e2e260b2ed551469b84aca7ce939dd1399"
  },
  "kernelspec": {
   "display_name": "Python 3.10.2 64-bit",
   "language": "python",
   "name": "python3"
  },
  "language_info": {
   "codemirror_mode": {
    "name": "ipython",
    "version": 3
   },
   "file_extension": ".py",
   "mimetype": "text/x-python",
   "name": "python",
   "nbconvert_exporter": "python",
   "pygments_lexer": "ipython3",
   "version": "3.10.2"
  },
  "orig_nbformat": 4
 },
 "nbformat": 4,
 "nbformat_minor": 2
}
